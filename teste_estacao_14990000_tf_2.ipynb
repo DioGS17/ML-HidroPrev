{
 "cells": [
  {
   "cell_type": "markdown",
   "id": "a92d51a7",
   "metadata": {},
   "source": [
    "# Validação Cruzada Time Series Split (teste)"
   ]
  },
  {
   "cell_type": "code",
   "execution_count": null,
   "id": "1663c7bc",
   "metadata": {},
   "outputs": [
    {
     "name": "stderr",
     "output_type": "stream",
     "text": [
      "2025-08-01 08:12:32.126336: E external/local_xla/xla/stream_executor/cuda/cuda_fft.cc:467] Unable to register cuFFT factory: Attempting to register factory for plugin cuFFT when one has already been registered\n",
      "WARNING: All log messages before absl::InitializeLog() is called are written to STDERR\n",
      "E0000 00:00:1754050352.137832 2828719 cuda_dnn.cc:8579] Unable to register cuDNN factory: Attempting to register factory for plugin cuDNN when one has already been registered\n",
      "E0000 00:00:1754050352.141293 2828719 cuda_blas.cc:1407] Unable to register cuBLAS factory: Attempting to register factory for plugin cuBLAS when one has already been registered\n",
      "W0000 00:00:1754050352.151479 2828719 computation_placer.cc:177] computation placer already registered. Please check linkage and avoid linking the same target more than once.\n",
      "W0000 00:00:1754050352.151489 2828719 computation_placer.cc:177] computation placer already registered. Please check linkage and avoid linking the same target more than once.\n",
      "W0000 00:00:1754050352.151491 2828719 computation_placer.cc:177] computation placer already registered. Please check linkage and avoid linking the same target more than once.\n",
      "W0000 00:00:1754050352.151492 2828719 computation_placer.cc:177] computation placer already registered. Please check linkage and avoid linking the same target more than once.\n",
      "2025-08-01 08:12:32.154902: I tensorflow/core/platform/cpu_feature_guard.cc:210] This TensorFlow binary is optimized to use available CPU instructions in performance-critical operations.\n",
      "To enable the following instructions: AVX2 FMA, in other operations, rebuild TensorFlow with the appropriate compiler flags.\n"
     ]
    }
   ],
   "source": [
    "import eda\n",
    "import keras\n",
    "import numpy as np\n",
    "import matplotlib.pyplot as plt\n",
    "from sklearn.preprocessing import MinMaxScaler\n",
    "from sklearn.model_selection import TimeSeriesSplit\n",
    "from sklearn.metrics import r2_score"
   ]
  },
  {
   "cell_type": "code",
   "execution_count": 2,
   "id": "cff0d197",
   "metadata": {},
   "outputs": [
    {
     "data": {
      "text/html": [
       "<div>\n",
       "<style scoped>\n",
       "    .dataframe tbody tr th:only-of-type {\n",
       "        vertical-align: middle;\n",
       "    }\n",
       "\n",
       "    .dataframe tbody tr th {\n",
       "        vertical-align: top;\n",
       "    }\n",
       "\n",
       "    .dataframe thead th {\n",
       "        text-align: right;\n",
       "    }\n",
       "</style>\n",
       "<table border=\"1\" class=\"dataframe\">\n",
       "  <thead>\n",
       "    <tr style=\"text-align: right;\">\n",
       "      <th></th>\n",
       "      <th>14990000</th>\n",
       "    </tr>\n",
       "    <tr>\n",
       "      <th>Data</th>\n",
       "      <th></th>\n",
       "    </tr>\n",
       "  </thead>\n",
       "  <tbody>\n",
       "    <tr>\n",
       "      <th>1985-01-01</th>\n",
       "      <td>2169.0</td>\n",
       "    </tr>\n",
       "    <tr>\n",
       "      <th>1985-01-02</th>\n",
       "      <td>2178.0</td>\n",
       "    </tr>\n",
       "    <tr>\n",
       "      <th>1985-01-03</th>\n",
       "      <td>2186.0</td>\n",
       "    </tr>\n",
       "    <tr>\n",
       "      <th>1985-01-04</th>\n",
       "      <td>2194.0</td>\n",
       "    </tr>\n",
       "    <tr>\n",
       "      <th>1985-01-05</th>\n",
       "      <td>2201.0</td>\n",
       "    </tr>\n",
       "    <tr>\n",
       "      <th>...</th>\n",
       "      <td>...</td>\n",
       "    </tr>\n",
       "    <tr>\n",
       "      <th>2024-12-27</th>\n",
       "      <td>1751.0</td>\n",
       "    </tr>\n",
       "    <tr>\n",
       "      <th>2024-12-28</th>\n",
       "      <td>1769.0</td>\n",
       "    </tr>\n",
       "    <tr>\n",
       "      <th>2024-12-29</th>\n",
       "      <td>1785.0</td>\n",
       "    </tr>\n",
       "    <tr>\n",
       "      <th>2024-12-30</th>\n",
       "      <td>1802.0</td>\n",
       "    </tr>\n",
       "    <tr>\n",
       "      <th>2024-12-31</th>\n",
       "      <td>1821.0</td>\n",
       "    </tr>\n",
       "  </tbody>\n",
       "</table>\n",
       "<p>14610 rows × 1 columns</p>\n",
       "</div>"
      ],
      "text/plain": [
       "            14990000\n",
       "Data                \n",
       "1985-01-01    2169.0\n",
       "1985-01-02    2178.0\n",
       "1985-01-03    2186.0\n",
       "1985-01-04    2194.0\n",
       "1985-01-05    2201.0\n",
       "...              ...\n",
       "2024-12-27    1751.0\n",
       "2024-12-28    1769.0\n",
       "2024-12-29    1785.0\n",
       "2024-12-30    1802.0\n",
       "2024-12-31    1821.0\n",
       "\n",
       "[14610 rows x 1 columns]"
      ]
     },
     "execution_count": 2,
     "metadata": {},
     "output_type": "execute_result"
    }
   ],
   "source": [
    "dados_manaus = eda.data_processing('Cotas extraidas',\n",
    "                                   '1985-01-01',\n",
    "                                   '2024-12-31',\n",
    "                                   ['dados_diarios_estacao_14990000.csv'])\n",
    "dados_manaus"
   ]
  },
  {
   "cell_type": "code",
   "execution_count": 3,
   "id": "96d8ce07",
   "metadata": {},
   "outputs": [],
   "source": [
    "def create_multi_step_dataset(series, janela, n_steps):\n",
    "    X, y = [], []\n",
    "    for i in range(len(series) - janela - n_steps + 1):\n",
    "        X.append(series[i:i+janela])\n",
    "        y.append(series[i+janela:i+janela+n_steps])\n",
    "    return np.array(X), np.array(y)"
   ]
  },
  {
   "cell_type": "code",
   "execution_count": 4,
   "id": "07455097",
   "metadata": {},
   "outputs": [],
   "source": [
    "def criar_lstm(units: int, janela: int, n_steps: int, activation='tanh'):\n",
    "    model = keras.models.Sequential([\n",
    "        keras.layers.Input(shape=(janela, 1)),\n",
    "        keras.layers.LSTM(units, activation=activation),\n",
    "        keras.layers.Dense(n_steps)\n",
    "    ])\n",
    "\n",
    "    model.compile(optimizer='adam', loss='mse', metrics=[keras.metrics.MeanAbsoluteError()])\n",
    "\n",
    "    return model"
   ]
  },
  {
   "cell_type": "code",
   "execution_count": 5,
   "id": "4a10d387",
   "metadata": {},
   "outputs": [],
   "source": [
    "janela = 15\n",
    "steps = 15\n",
    "X, y = create_multi_step_dataset(dados_manaus['14990000'].values, janela, steps)"
   ]
  },
  {
   "cell_type": "code",
   "execution_count": null,
   "id": "14a044d3",
   "metadata": {},
   "outputs": [
    {
     "name": "stdout",
     "output_type": "stream",
     "text": [
      "\u001b[1m76/76\u001b[0m \u001b[32m━━━━━━━━━━━━━━━━━━━━\u001b[0m\u001b[37m\u001b[0m \u001b[1m0s\u001b[0m 2ms/step\n",
      "Fold 1 — R²: 0.9892\n",
      "\u001b[1m76/76\u001b[0m \u001b[32m━━━━━━━━━━━━━━━━━━━━\u001b[0m\u001b[37m\u001b[0m \u001b[1m0s\u001b[0m 1ms/step  \n",
      "Fold 2 — R²: 0.9915\n",
      "\u001b[1m76/76\u001b[0m \u001b[32m━━━━━━━━━━━━━━━━━━━━\u001b[0m\u001b[37m\u001b[0m \u001b[1m0s\u001b[0m 2ms/step\n",
      "Fold 3 — R²: 0.9949\n",
      "\u001b[1m76/76\u001b[0m \u001b[32m━━━━━━━━━━━━━━━━━━━━\u001b[0m\u001b[37m\u001b[0m \u001b[1m0s\u001b[0m 1ms/step\n",
      "Fold 4 — R²: 0.9956\n",
      "\u001b[1m76/76\u001b[0m \u001b[32m━━━━━━━━━━━━━━━━━━━━\u001b[0m\u001b[37m\u001b[0m \u001b[1m0s\u001b[0m 1ms/step  \n",
      "Fold 5 — R²: 0.9955\n"
     ]
    }
   ],
   "source": [
    "tscv = TimeSeriesSplit(n_splits=5)\n",
    "r2_list = []\n",
    "\n",
    "for fold, (train_idx, test_idx) in enumerate(tscv.split(X)):\n",
    "    x_train_raw, x_test_raw = X[train_idx], X[test_idx]\n",
    "    y_train_raw, y_test_raw = y[train_idx], y[test_idx]\n",
    "\n",
    "    # Cria novo scaler a cada fold\n",
    "    scaler_x = MinMaxScaler()\n",
    "    x_train_scaled = scaler_x.fit_transform(x_train_raw)\n",
    "    x_test_scaled = scaler_x.transform(x_test_raw)\n",
    "\n",
    "    scaler_y = MinMaxScaler()\n",
    "    y_train_scaled = scaler_y.fit_transform(y_train_raw)\n",
    "\n",
    "    # Treina e avalia\n",
    "    modelo = criar_lstm(15, janela, steps)\n",
    "    modelo.fit(x_train_scaled, y_train_scaled, epochs=50, verbose=0)\n",
    "\n",
    "    y_pred = modelo.predict(x_test_scaled)\n",
    "    y_pred_inverso = scaler_y.inverse_transform(y_pred)\n",
    "\n",
    "    r2 = r2_score(y_test_raw, y_pred_inverso)\n",
    "    r2_list.append(r2)\n",
    "\n",
    "    print(f\"Fold {fold+1} — R²: {r2:.4f}\")"
   ]
  },
  {
   "cell_type": "code",
   "execution_count": 11,
   "id": "68451564",
   "metadata": {},
   "outputs": [
    {
     "name": "stdout",
     "output_type": "stream",
     "text": [
      "R² = 0.9934 +- 0.002556\n"
     ]
    }
   ],
   "source": [
    "r2_mean = np.mean(r2_list)\n",
    "r2_std = np.std(r2_list)\n",
    "\n",
    "print(f\"R² = {r2_mean:.4f} +- {r2_std:4f}\")"
   ]
  },
  {
   "cell_type": "code",
   "execution_count": 27,
   "id": "46d7daf3",
   "metadata": {},
   "outputs": [
    {
     "data": {
      "image/png": "[encoded data removed]",
      "text/plain": [
       "<Figure size 640x480 with 1 Axes>"
      ]
     },
     "metadata": {},
     "output_type": "display_data"
    }
   ],
   "source": [
    "plt.plot(r2_list, 'bo', linestyle='--', label='LSTM')\n",
    "plt.legend()\n",
    "plt.xticks([0, 1, 2, 3, 4], [f'Split {i+1}' for i in range(5)])\n",
    "plt.xlabel('Fold')\n",
    "plt.ylabel('R²')\n",
    "plt.title(f'Estação 14990000 ({steps} dias)')\n",
    "plt.show()"
   ]
  }
 ],
 "metadata": {
  "kernelspec": {
   "display_name": "ml_tensorflow",
   "language": "python",
   "name": "python3"
  },
  "language_info": {
   "codemirror_mode": {
    "name": "ipython",
    "version": 3
   },
   "file_extension": ".py",
   "mimetype": "text/x-python",
   "name": "python",
   "nbconvert_exporter": "python",
   "pygments_lexer": "ipython3",
   "version": "3.12.11"
  }
 },
 "nbformat": 4,
 "nbformat_minor": 5
}
