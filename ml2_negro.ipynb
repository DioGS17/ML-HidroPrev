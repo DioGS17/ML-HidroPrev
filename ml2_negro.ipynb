{
 "cells": [
  {
   "cell_type": "code",
   "execution_count": 1,
   "id": "7bb54e3a",
   "metadata": {},
   "outputs": [
    {
     "name": "stderr",
     "output_type": "stream",
     "text": [
      "2025-08-26 22:24:58.178347: I tensorflow/core/platform/cpu_feature_guard.cc:210] This TensorFlow binary is optimized to use available CPU instructions in performance-critical operations.\n",
      "To enable the following instructions: AVX2 FMA, in other operations, rebuild TensorFlow with the appropriate compiler flags.\n"
     ]
    }
   ],
   "source": [
    "from modulos import ann, eda, ml_func\n",
    "import keras\n",
    "import pandas as pd\n",
    "import numpy as np\n",
    "import matplotlib.pyplot as plt\n",
    "import matplotlib.dates as mdates\n",
    "from statsmodels.tsa.seasonal import seasonal_decompose\n",
    "from sklearn.preprocessing import MinMaxScaler\n",
    "from sklearn.metrics import r2_score"
   ]
  },
  {
   "cell_type": "markdown",
   "id": "5d72b11f",
   "metadata": {},
   "source": [
    "# ML - Bacia do Rio Negro 2\n",
    "\n",
    "Usando a metodologia do ML - Bacia do Rio Negro 1 + Cota das estações montantes"
   ]
  },
  {
   "cell_type": "markdown",
   "id": "0b7c88f3",
   "metadata": {},
   "source": [
    "### Estações\n",
    "\n",
    "1. Rio Negro\n",
    "\n",
    "2. Rio Branco\n",
    "\n",
    "3. Rio Tiquié + Uaupés"
   ]
  },
  {
   "cell_type": "code",
   "execution_count": 2,
   "id": "f4b177ce",
   "metadata": {},
   "outputs": [],
   "source": [
    "path = 'Cotas extraidas'\n",
    "date_start = '1985-01-01'\n",
    "date_end = '2023-12-31'"
   ]
  },
  {
   "cell_type": "code",
   "execution_count": 3,
   "id": "f2bb2517",
   "metadata": {},
   "outputs": [
    {
     "data": {
      "text/html": [
       "<div>\n",
       "<style scoped>\n",
       "    .dataframe tbody tr th:only-of-type {\n",
       "        vertical-align: middle;\n",
       "    }\n",
       "\n",
       "    .dataframe tbody tr th {\n",
       "        vertical-align: top;\n",
       "    }\n",
       "\n",
       "    .dataframe thead th {\n",
       "        text-align: right;\n",
       "    }\n",
       "</style>\n",
       "<table border=\"1\" class=\"dataframe\">\n",
       "  <thead>\n",
       "    <tr style=\"text-align: right;\">\n",
       "      <th></th>\n",
       "      <th>14480002</th>\n",
       "      <th>14840000</th>\n",
       "      <th>14990000</th>\n",
       "    </tr>\n",
       "    <tr>\n",
       "      <th>Data</th>\n",
       "      <th></th>\n",
       "      <th></th>\n",
       "      <th></th>\n",
       "    </tr>\n",
       "  </thead>\n",
       "  <tbody>\n",
       "    <tr>\n",
       "      <th>1985-01-01</th>\n",
       "      <td>409.0</td>\n",
       "      <td>669.0</td>\n",
       "      <td>2169.0</td>\n",
       "    </tr>\n",
       "    <tr>\n",
       "      <th>1985-01-02</th>\n",
       "      <td>411.0</td>\n",
       "      <td>677.0</td>\n",
       "      <td>2178.0</td>\n",
       "    </tr>\n",
       "    <tr>\n",
       "      <th>1985-01-03</th>\n",
       "      <td>413.0</td>\n",
       "      <td>681.0</td>\n",
       "      <td>2186.0</td>\n",
       "    </tr>\n",
       "    <tr>\n",
       "      <th>1985-01-04</th>\n",
       "      <td>416.0</td>\n",
       "      <td>685.0</td>\n",
       "      <td>2194.0</td>\n",
       "    </tr>\n",
       "    <tr>\n",
       "      <th>1985-01-05</th>\n",
       "      <td>427.0</td>\n",
       "      <td>691.0</td>\n",
       "      <td>2201.0</td>\n",
       "    </tr>\n",
       "    <tr>\n",
       "      <th>...</th>\n",
       "      <td>...</td>\n",
       "      <td>...</td>\n",
       "      <td>...</td>\n",
       "    </tr>\n",
       "    <tr>\n",
       "      <th>2023-12-27</th>\n",
       "      <td>325.0</td>\n",
       "      <td>413.0</td>\n",
       "      <td>1807.0</td>\n",
       "    </tr>\n",
       "    <tr>\n",
       "      <th>2023-12-28</th>\n",
       "      <td>329.0</td>\n",
       "      <td>421.0</td>\n",
       "      <td>1822.0</td>\n",
       "    </tr>\n",
       "    <tr>\n",
       "      <th>2023-12-29</th>\n",
       "      <td>331.0</td>\n",
       "      <td>427.0</td>\n",
       "      <td>1834.0</td>\n",
       "    </tr>\n",
       "    <tr>\n",
       "      <th>2023-12-30</th>\n",
       "      <td>333.0</td>\n",
       "      <td>436.0</td>\n",
       "      <td>1849.0</td>\n",
       "    </tr>\n",
       "    <tr>\n",
       "      <th>2023-12-31</th>\n",
       "      <td>334.0</td>\n",
       "      <td>446.0</td>\n",
       "      <td>1864.0</td>\n",
       "    </tr>\n",
       "  </tbody>\n",
       "</table>\n",
       "<p>14244 rows × 3 columns</p>\n",
       "</div>"
      ],
      "text/plain": [
       "            14480002  14840000  14990000\n",
       "Data                                    \n",
       "1985-01-01     409.0     669.0    2169.0\n",
       "1985-01-02     411.0     677.0    2178.0\n",
       "1985-01-03     413.0     681.0    2186.0\n",
       "1985-01-04     416.0     685.0    2194.0\n",
       "1985-01-05     427.0     691.0    2201.0\n",
       "...              ...       ...       ...\n",
       "2023-12-27     325.0     413.0    1807.0\n",
       "2023-12-28     329.0     421.0    1822.0\n",
       "2023-12-29     331.0     427.0    1834.0\n",
       "2023-12-30     333.0     436.0    1849.0\n",
       "2023-12-31     334.0     446.0    1864.0\n",
       "\n",
       "[14244 rows x 3 columns]"
      ]
     },
     "execution_count": 3,
     "metadata": {},
     "output_type": "execute_result"
    }
   ],
   "source": [
    "arquivos = [\n",
    "    'dados_diarios_estacao_14480002.csv',\n",
    "    'dados_diarios_estacao_14840000.csv',\n",
    "    'dados_diarios_estacao_14990000.csv'\n",
    "]\n",
    "\n",
    "negro = eda.data_processing(path, date_start, date_end, arquivos)\n",
    "negro"
   ]
  },
  {
   "cell_type": "code",
   "execution_count": 4,
   "id": "f69513ee",
   "metadata": {},
   "outputs": [
    {
     "data": {
      "text/html": [
       "<div>\n",
       "<style scoped>\n",
       "    .dataframe tbody tr th:only-of-type {\n",
       "        vertical-align: middle;\n",
       "    }\n",
       "\n",
       "    .dataframe tbody tr th {\n",
       "        vertical-align: top;\n",
       "    }\n",
       "\n",
       "    .dataframe thead th {\n",
       "        text-align: right;\n",
       "    }\n",
       "</style>\n",
       "<table border=\"1\" class=\"dataframe\">\n",
       "  <thead>\n",
       "    <tr style=\"text-align: right;\">\n",
       "      <th></th>\n",
       "      <th>14620000</th>\n",
       "      <th>14710000</th>\n",
       "      <th>14790000</th>\n",
       "    </tr>\n",
       "    <tr>\n",
       "      <th>Data</th>\n",
       "      <th></th>\n",
       "      <th></th>\n",
       "      <th></th>\n",
       "    </tr>\n",
       "  </thead>\n",
       "  <tbody>\n",
       "    <tr>\n",
       "      <th>1985-01-01</th>\n",
       "      <td>285.0</td>\n",
       "      <td>281.0</td>\n",
       "      <td>509.0</td>\n",
       "    </tr>\n",
       "    <tr>\n",
       "      <th>1985-01-02</th>\n",
       "      <td>309.0</td>\n",
       "      <td>285.0</td>\n",
       "      <td>503.0</td>\n",
       "    </tr>\n",
       "    <tr>\n",
       "      <th>1985-01-03</th>\n",
       "      <td>310.0</td>\n",
       "      <td>290.0</td>\n",
       "      <td>498.0</td>\n",
       "    </tr>\n",
       "    <tr>\n",
       "      <th>1985-01-04</th>\n",
       "      <td>260.0</td>\n",
       "      <td>293.0</td>\n",
       "      <td>504.0</td>\n",
       "    </tr>\n",
       "    <tr>\n",
       "      <th>1985-01-05</th>\n",
       "      <td>259.0</td>\n",
       "      <td>280.0</td>\n",
       "      <td>510.0</td>\n",
       "    </tr>\n",
       "    <tr>\n",
       "      <th>...</th>\n",
       "      <td>...</td>\n",
       "      <td>...</td>\n",
       "      <td>...</td>\n",
       "    </tr>\n",
       "    <tr>\n",
       "      <th>2023-12-27</th>\n",
       "      <td>83.0</td>\n",
       "      <td>126.0</td>\n",
       "      <td>340.0</td>\n",
       "    </tr>\n",
       "    <tr>\n",
       "      <th>2023-12-28</th>\n",
       "      <td>84.0</td>\n",
       "      <td>131.0</td>\n",
       "      <td>339.0</td>\n",
       "    </tr>\n",
       "    <tr>\n",
       "      <th>2023-12-29</th>\n",
       "      <td>78.0</td>\n",
       "      <td>137.0</td>\n",
       "      <td>345.0</td>\n",
       "    </tr>\n",
       "    <tr>\n",
       "      <th>2023-12-30</th>\n",
       "      <td>76.0</td>\n",
       "      <td>135.0</td>\n",
       "      <td>354.0</td>\n",
       "    </tr>\n",
       "    <tr>\n",
       "      <th>2023-12-31</th>\n",
       "      <td>79.0</td>\n",
       "      <td>131.0</td>\n",
       "      <td>361.0</td>\n",
       "    </tr>\n",
       "  </tbody>\n",
       "</table>\n",
       "<p>14244 rows × 3 columns</p>\n",
       "</div>"
      ],
      "text/plain": [
       "            14620000  14710000  14790000\n",
       "Data                                    \n",
       "1985-01-01     285.0     281.0     509.0\n",
       "1985-01-02     309.0     285.0     503.0\n",
       "1985-01-03     310.0     290.0     498.0\n",
       "1985-01-04     260.0     293.0     504.0\n",
       "1985-01-05     259.0     280.0     510.0\n",
       "...              ...       ...       ...\n",
       "2023-12-27      83.0     126.0     340.0\n",
       "2023-12-28      84.0     131.0     339.0\n",
       "2023-12-29      78.0     137.0     345.0\n",
       "2023-12-30      76.0     135.0     354.0\n",
       "2023-12-31      79.0     131.0     361.0\n",
       "\n",
       "[14244 rows x 3 columns]"
      ]
     },
     "execution_count": 4,
     "metadata": {},
     "output_type": "execute_result"
    }
   ],
   "source": [
    "arquivos = [\n",
    "    'dados_diarios_estacao_14620000.csv',\n",
    "    'dados_diarios_estacao_14710000.csv',\n",
    "    'dados_diarios_estacao_14790000.csv'\n",
    "]\n",
    "\n",
    "branco = eda.data_processing(path, date_start, date_end, arquivos)\n",
    "branco"
   ]
  },
  {
   "cell_type": "markdown",
   "id": "420c7fe6",
   "metadata": {},
   "source": [
    "### Correlação cruzada\n",
    "Aplicar lags nas estações montantes para verificar qual possui maior correlação com a cota atual"
   ]
  },
  {
   "cell_type": "code",
   "execution_count": 5,
   "id": "9274c706",
   "metadata": {},
   "outputs": [
    {
     "name": "stdout",
     "output_type": "stream",
     "text": [
      "Estação 14480002: Melhor lag = 12; Correlação = 0.7487\n",
      "Estação 14840000: Melhor lag = 4; Correlação = 0.8751\n"
     ]
    }
   ],
   "source": [
    "lags_negro = eda.cross_corr(negro, '14990000')"
   ]
  },
  {
   "cell_type": "code",
   "execution_count": 6,
   "id": "d488aa69",
   "metadata": {},
   "outputs": [
    {
     "name": "stdout",
     "output_type": "stream",
     "text": [
      "Estação 14620000: Melhor lag = 8; Correlação = 0.8376\n",
      "Estação 14710000: Melhor lag = 6; Correlação = 0.8908\n"
     ]
    }
   ],
   "source": [
    "lags_branco = eda.cross_corr(branco, '14790000')"
   ]
  },
  {
   "cell_type": "markdown",
   "id": "9f358f57",
   "metadata": {},
   "source": [
    "### Aprendizado de Máquina"
   ]
  },
  {
   "cell_type": "markdown",
   "id": "78e88d3b",
   "metadata": {},
   "source": [
    "##### Separação dos conjuntos"
   ]
  },
  {
   "cell_type": "code",
   "execution_count": 7,
   "id": "eb4c1553",
   "metadata": {},
   "outputs": [],
   "source": [
    "date_split = '2015-01-01'\n",
    "negro_treino, negro_teste = negro[negro.index < date_split], negro[negro.index >= date_split]\n",
    "branco_treino, branco_teste = branco[branco.index < date_split], branco[branco.index >= date_split]"
   ]
  },
  {
   "cell_type": "markdown",
   "id": "3c6bb75f",
   "metadata": {},
   "source": [
    "##### Funções"
   ]
  },
  {
   "cell_type": "code",
   "execution_count": null,
   "id": "19b31aae",
   "metadata": {},
   "outputs": [],
   "source": [
    "def train_test_model(models, name_models, df, name_column, split, janela, steps, shifts):\n",
    "    # Criação de janelas\n",
    "    x_shifts = {}\n",
    "    for i, col in enumerate(df.columns):\n",
    "        if col == name_column:\n",
    "            x_shifts[col] = df[col]\n",
    "        else:\n",
    "            x_shifts[f\"{col} - lag {shifts[i]}\"] = df[col].shift(shifts[i])\n",
    "\n",
    "    x_shifts = pd.DataFrame(x_shifts, index=df.index)\n",
    "    x_shifts.dropna(inplace=True)\n",
    "    \n",
    "    X, y = ml_func.create_multi_step_dataset(x_shifts[name_column].values, janela, steps)\n",
    "    for i, col in enumerate(x_shifts.columns):\n",
    "        if col == name_column:\n",
    "            continue\n",
    "        else:\n",
    "            x, _ = ml_func.create_multi_step_dataset(x_shifts[col].values, janela, steps)\n",
    "            X = np.append(X, x, axis=1)\n",
    "\n",
    "    # Separação dos cojuntos\n",
    "    x_train = X[:split-janela]\n",
    "    y_train = y[:split-janela]\n",
    "\n",
    "    x_test = X[split-janela:]\n",
    "    y_test = y[split-janela:]\n",
    "\n",
    "    # Normalização dos dados\n",
    "    x_scale = MinMaxScaler()\n",
    "    y_scale = MinMaxScaler()\n",
    "\n",
    "    x_train = x_scale.fit_transform(x_train)\n",
    "    x_test = x_scale.transform(x_test)\n",
    "\n",
    "    y_train = y_scale.fit_transform(y_train)\n",
    "\n",
    "    # Callback Early Stopping\n",
    "    early_stop = keras.callbacks.EarlyStopping(\n",
    "        monitor='val_loss',\n",
    "        patience=10,\n",
    "        restore_best_weights=True\n",
    "    )\n",
    "\n",
    "    predicts = []\n",
    "    for i, model in enumerate(models):\n",
    "        # Treino\n",
    "        model.fit(x_train, y_train, epochs=100, verbose=0, callbacks=early_stop)\n",
    "\n",
    "        # Predição\n",
    "        pred = model.predict(x_test, verbose=0)\n",
    "        pred_inv = y_scale.inverse_transform(pred)\n",
    "        predicts.append(pred_inv)\n",
    "\n",
    "        # Métrica R²\n",
    "        print(f\"\\nModelo: {name_models[i]}\")\n",
    "        print(f\"Média R²: {r2_score(y_test, pred_inv):.4f}\")\n",
    "        print(f\"R² (Dia {steps}): {r2_score(y_test[:, steps-1], pred_inv[:, steps-1]):.4f}\")\n",
    "\n",
    "    # Plot dos dados Observados e Preditos\n",
    "    max_year, min_year = eda._max_min_year_(df[name_column])\n",
    "\n",
    "    step_day = y_test[:, steps-1].reshape(len(y_test),)\n",
    "    step_day_df = pd.DataFrame(step_day, index=series.index[split+steps-1:])\n",
    "    step_std = np.std(step_day)\n",
    "\n",
    "    plt.figure(figsize=(16, 6))\n",
    "    plt.plot(step_day_df, linestyle='-', label='Observado')\n",
    "    plt.gca().fill_between(step_day_df.index, step_day + step_std, step_day - step_std, alpha=0.2, label='Desvio Padrão')\n",
    "    \n",
    "    for i, name in enumerate(name_models):\n",
    "        predict_df = pd.DataFrame(predicts[i][:, steps-1].reshape(len(y_test),), index=series.index[split+steps-1:])\n",
    "        plt.plot(predict_df, linestyle='--', label=name)\n",
    "\n",
    "    plt.axhline(y=np.mean(df[name_column].loc[max_year]), linestyle='--', color='red', label='Média Máxima')\n",
    "    plt.axhline(y=np.mean(df[name_column].loc[min_year]), linestyle='--', color='black', label='Média Mínima')\n",
    "\n",
    "    plt.legend(loc='upper center', bbox_to_anchor=(0.5, -0.18), ncol=2)\n",
    "    plt.title(f'Estação {name_column} - Dia {steps}')\n",
    "    plt.xlabel('Tempo')\n",
    "    plt.ylabel('Cota (cm)')\n",
    "    plt.tight_layout()\n",
    "    plt.grid(True)\n",
    "    plt.show()"
   ]
  },
  {
   "cell_type": "code",
   "execution_count": 19,
   "id": "ac70cf90",
   "metadata": {},
   "outputs": [
    {
     "name": "stdout",
     "output_type": "stream",
     "text": [
      "            14480002 - lag 12  14840000 - lag 4  14990000\n",
      "Data                                                     \n",
      "1985-01-13              409.0             744.0    2273.0\n",
      "1985-01-14              411.0             755.0    2284.0\n",
      "1985-01-15              413.0             765.0    2296.0\n",
      "1985-01-16              416.0             774.0    2308.0\n",
      "1985-01-17              427.0             783.0    2318.0\n",
      "...                       ...               ...       ...\n",
      "2023-12-27              253.0             374.0    1807.0\n",
      "2023-12-28              259.0             388.0    1822.0\n",
      "2023-12-29              265.0             396.0    1834.0\n",
      "2023-12-30              272.0             405.0    1849.0\n",
      "2023-12-31              279.0             413.0    1864.0\n",
      "\n",
      "[14232 rows x 3 columns]\n",
      "[[2273. 2284. 2296. ...  854.  859.  863.]\n",
      " [2284. 2296. 2308. ...  859.  863.  866.]\n",
      " [2296. 2308. 2318. ...  863.  866.  868.]\n",
      " ...\n",
      " [1448. 1457. 1465. ...  318.  322.  322.]\n",
      " [1457. 1465. 1472. ...  322.  322.  322.]\n",
      " [1465. 1472. 1479. ...  322.  322.  321.]]\n",
      "(14203, 45)\n",
      "\n",
      "[[2391. 2394. 2396. ... 2376. 2373. 2370.]\n",
      " [2394. 2396. 2396. ... 2373. 2370. 2365.]\n",
      " [2396. 2396. 2394. ... 2370. 2365. 2359.]\n",
      " ...\n",
      " [1597. 1617. 1641. ... 1807. 1822. 1834.]\n",
      " [1617. 1641. 1655. ... 1822. 1834. 1849.]\n",
      " [1641. 1655. 1674. ... 1834. 1849. 1864.]]\n",
      "(14203, 15)\n"
     ]
    }
   ],
   "source": [
    "train_test_model('a', 'b', negro, '14990000', negro_treino.shape[0], 15, 15, lags_negro)"
   ]
  },
  {
   "cell_type": "markdown",
   "id": "5a1531cf",
   "metadata": {},
   "source": [
    "##### MLP"
   ]
  },
  {
   "cell_type": "code",
   "execution_count": null,
   "id": "20bd2e78",
   "metadata": {},
   "outputs": [],
   "source": []
  },
  {
   "cell_type": "markdown",
   "id": "481966ff",
   "metadata": {},
   "source": [
    "##### LSTM"
   ]
  },
  {
   "cell_type": "code",
   "execution_count": null,
   "id": "85b70d17",
   "metadata": {},
   "outputs": [],
   "source": []
  }
 ],
 "metadata": {
  "kernelspec": {
   "display_name": "ml_tensorflow",
   "language": "python",
   "name": "python3"
  },
  "language_info": {
   "codemirror_mode": {
    "name": "ipython",
    "version": 3
   },
   "file_extension": ".py",
   "mimetype": "text/x-python",
   "name": "python",
   "nbconvert_exporter": "python",
   "pygments_lexer": "ipython3",
   "version": "3.12.11"
  }
 },
 "nbformat": 4,
 "nbformat_minor": 5
}
