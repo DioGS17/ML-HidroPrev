{
 "cells": [
  {
   "cell_type": "code",
   "execution_count": null,
   "id": "7bb54e3a",
   "metadata": {},
   "outputs": [],
   "source": [
    "from modulos import ann, eda, ml_func\n",
    "import keras\n",
    "import pandas as pd\n",
    "import numpy as np\n",
    "import matplotlib.pyplot as plt\n",
    "import matplotlib.dates as mdates\n",
    "from sklearn.preprocessing import MinMaxScaler\n",
    "from sklearn.metrics import r2_score"
   ]
  },
  {
   "cell_type": "markdown",
   "id": "5d72b11f",
   "metadata": {},
   "source": [
    "# ML - Bacia do Rio Negro 2\n",
    "\n",
    "Usando a metodologia do ML - Bacia do Rio Negro 1 + Cota das estações montantes"
   ]
  },
  {
   "cell_type": "markdown",
   "id": "0b7c88f3",
   "metadata": {},
   "source": [
    "### Estações\n",
    "\n",
    "1. Rio Negro\n",
    "\n",
    "2. Rio Branco\n",
    "\n",
    "3. Rio Tiquié + Uaupés"
   ]
  },
  {
   "cell_type": "code",
   "execution_count": null,
   "id": "f2bb2517",
   "metadata": {},
   "outputs": [],
   "source": []
  },
  {
   "cell_type": "markdown",
   "id": "420c7fe6",
   "metadata": {},
   "source": [
    "### Correlação cruzada\n",
    "Aplicar lags nas estações montantes para verificar qual possui maior correlação com a cota atual"
   ]
  },
  {
   "cell_type": "code",
   "execution_count": null,
   "id": "9274c706",
   "metadata": {},
   "outputs": [],
   "source": []
  },
  {
   "cell_type": "markdown",
   "id": "9f358f57",
   "metadata": {},
   "source": [
    "### Aprendizado de Máquina"
   ]
  },
  {
   "cell_type": "markdown",
   "id": "78e88d3b",
   "metadata": {},
   "source": [
    "##### Separação dos conjuntos"
   ]
  },
  {
   "cell_type": "code",
   "execution_count": null,
   "id": "eb4c1553",
   "metadata": {},
   "outputs": [],
   "source": []
  },
  {
   "cell_type": "markdown",
   "id": "3c6bb75f",
   "metadata": {},
   "source": [
    "##### Funções"
   ]
  },
  {
   "cell_type": "code",
   "execution_count": null,
   "id": "19b31aae",
   "metadata": {},
   "outputs": [],
   "source": []
  },
  {
   "cell_type": "markdown",
   "id": "5a1531cf",
   "metadata": {},
   "source": [
    "##### MLP"
   ]
  },
  {
   "cell_type": "code",
   "execution_count": null,
   "id": "20bd2e78",
   "metadata": {},
   "outputs": [],
   "source": []
  },
  {
   "cell_type": "markdown",
   "id": "481966ff",
   "metadata": {},
   "source": [
    "##### LSTM"
   ]
  },
  {
   "cell_type": "code",
   "execution_count": null,
   "id": "85b70d17",
   "metadata": {},
   "outputs": [],
   "source": []
  }
 ],
 "metadata": {
  "kernelspec": {
   "display_name": "ml_tensorflow",
   "language": "python",
   "name": "python3"
  },
  "language_info": {
   "name": "python",
   "version": "3.12.11"
  }
 },
 "nbformat": 4,
 "nbformat_minor": 5
}
